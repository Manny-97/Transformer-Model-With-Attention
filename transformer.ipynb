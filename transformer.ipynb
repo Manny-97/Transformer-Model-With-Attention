{
 "cells": [
  {
   "cell_type": "code",
   "execution_count": 16,
   "metadata": {},
   "outputs": [],
   "source": [
    "import matplotlib.pyplot as plt\n",
    "import pathlib\n",
    "import pickle\n",
    "import random\n",
    "import re\n",
    "import tensorflow as tf\n",
    "import unicodedata"
   ]
  },
  {
   "cell_type": "code",
   "execution_count": 3,
   "metadata": {},
   "outputs": [
    {
     "name": "stdout",
     "output_type": "stream",
     "text": [
      "Downloading data from http://storage.googleapis.com/download.tensorflow.org/data/fra-eng.zip\n",
      "3423204/3423204 [==============================] - 1s 0us/step\n",
      "/Users/user/.keras/datasets/fra.txt\n"
     ]
    }
   ],
   "source": [
    "# download dataset provided by Anki: https://www.manythings.org/anki/\n",
    "text_file = tf.keras.utils.get_file(\n",
    "    fname=\"fra-eng.zip\",\n",
    "    origin=\"http://storage.googleapis.com/download.tensorflow.org/data/fra-eng.zip\",\n",
    "    extract=True\n",
    ")\n",
    "\n",
    "# Show where the file is located now\n",
    "text_file = pathlib.Path(text_file).parent / \"fra.txt\"\n",
    "print(text_file)"
   ]
  },
  {
   "attachments": {},
   "cell_type": "markdown",
   "metadata": {},
   "source": [
    "### 02. Text Normalization"
   ]
  },
  {
   "cell_type": "code",
   "execution_count": 13,
   "metadata": {},
   "outputs": [],
   "source": [
    "def normalize(line):\n",
    "    \"\"\"Normalize a line of text and split into two at the tab character\"\"\"\n",
    "    line = unicodedata.normalize('NFKC', line.strip().lower())\n",
    "    line = re.sub(r\"^([^ \\w])(?!\\s)\", r\"\\1 \", line)\n",
    "    line = re.sub(r\"(\\s[^ \\w])(?!\\s)\", r\"\\1 \", line)\n",
    "    line = re.sub(r\"(?!\\s)([^ \\w])$\", r\" \\1\", line)\n",
    "    line = re.sub(r\"(?!\\s)([^ \\w]\\s)\", r\" \\1\", line)\n",
    "    eng, fra = line.split('\\t')\n",
    "    fra = f\"[start] {fra} [end]\"\n",
    "    return eng, fra"
   ]
  },
  {
   "cell_type": "code",
   "execution_count": 14,
   "metadata": {},
   "outputs": [
    {
     "name": "stdout",
     "output_type": "stream",
     "text": [
      "('this color is a bit darker than that one .', '[start] cette couleur est un peu plus sombre que celle-ci . [end]')\n",
      "('i want to go there once more .', '[start] je veux y aller une fois encore . [end]')\n",
      "('is there someone with you ?', \"[start] y a-t-il quelqu'un avec vous  ?  [end]\")\n",
      "(\"leave me alone or i'll call the police .\", \"[start] laissez-moi tranquille ou j'appelle la police  !  [end]\")\n",
      "('i plan to go to france next year .', \"[start] j'ai l'intention d'aller en france l'année prochaine . [end]\")\n"
     ]
    }
   ],
   "source": [
    "# normalize each line and separate into English and French\n",
    "with open(text_file) as fp:\n",
    "    text_pairs = [normalize(line) for line in fp]\n",
    "\n",
    "# show some samples\n",
    "for i in range(5):\n",
    "    print(random.choice(text_pairs))\n",
    "\n",
    "with open('text_pairs.pickle', 'wb') as fp:\n",
    "    pickle.dump(text_pairs, fp)"
   ]
  },
  {
   "cell_type": "code",
   "execution_count": 15,
   "metadata": {},
   "outputs": [
    {
     "name": "stdout",
     "output_type": "stream",
     "text": [
      "Total English token: 14969\n",
      "Total French token: 29219\n",
      "Maximum English length: 51\n",
      "Maximum French length: 60\n",
      "167130 total pairs\n"
     ]
    }
   ],
   "source": [
    "with open('text_pairs.pickle', 'rb') as fp:\n",
    "    text_pairs = pickle.load(fp)\n",
    "\n",
    "# count\n",
    "eng_token, fra_token = set(), set()\n",
    "eng_maxlen, fra_maxlen = 0, 0\n",
    "for eng, fra in text_pairs:\n",
    "    eng_tok, fra_tok = eng.split(), fra.split()\n",
    "    eng_maxlen = max(eng_maxlen, len(eng_tok))\n",
    "    fra_maxlen = max(fra_maxlen, len(fra_tok))\n",
    "    eng_token.update(eng_tok)\n",
    "    fra_token.update(fra_tok)\n",
    "\n",
    "print(f\"Total English token: {len(eng_token)}\")\n",
    "print(f\"Total French token: {len(fra_token)}\")\n",
    "print(f\"Maximum English length: {eng_maxlen}\")\n",
    "print(f\"Maximum French length: {fra_maxlen}\")\n",
    "print(f\"{len(text_pairs)} total pairs\")"
   ]
  },
  {
   "cell_type": "code",
   "execution_count": 20,
   "metadata": {},
   "outputs": [
    {
     "data": {
      "image/png": "[encoded data removed]",
      "text/plain": [
       "<Figure size 432x288 with 1 Axes>"
      ]
     },
     "metadata": {
      "needs_background": "light"
     },
     "output_type": "display_data"
    }
   ],
   "source": [
    "# histogram of sentence length in tokens\n",
    "en_lengths = [len(eng.split()) for eng, fra in text_pairs]\n",
    "fr_lengths = [len(fra.split()) for eng, fra in text_pairs]\n",
    "\n",
    "plt.hist(en_lengths, label='en', color='blue', alpha=0.33)\n",
    "plt.hist(fr_lengths, label='fr', color='red', alpha=0.33)\n",
    "plt.yscale('log')\n",
    "plt.ylim(plt.ylim())\n",
    "plt.plot([max(en_lengths), max(en_lengths)], plt.ylim(), color='blue')\n",
    "plt.plot([max(fr_lengths), max(fr_lengths)], plt.ylim(), color='red')\n",
    "plt.legend()\n",
    "plt.title('Examples count vs Token length')\n",
    "plt.show()"
   ]
  },
  {
   "attachments": {},
   "cell_type": "markdown",
   "metadata": {},
   "source": [
    "### 03. Vectorization & Making Datasets"
   ]
  },
  {
   "cell_type": "code",
   "execution_count": null,
   "metadata": {},
   "outputs": [],
   "source": []
  }
 ],
 "metadata": {
  "kernelspec": {
   "display_name": "base",
   "language": "python",
   "name": "python3"
  },
  "language_info": {
   "codemirror_mode": {
    "name": "ipython",
    "version": 3
   },
   "file_extension": ".py",
   "mimetype": "text/x-python",
   "name": "python",
   "nbconvert_exporter": "python",
   "pygments_lexer": "ipython3",
   "version": "3.9.7"
  },
  "orig_nbformat": 4,
  "vscode": {
   "interpreter": {
    "hash": "40d3a090f54c6569ab1632332b64b2c03c39dcf918b08424e98f38b5ae0af88f"
   }
  }
 },
 "nbformat": 4,
 "nbformat_minor": 2
}
